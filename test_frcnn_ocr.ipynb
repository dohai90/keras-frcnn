{
 "cells": [
  {
   "cell_type": "code",
   "execution_count": 1,
   "metadata": {},
   "outputs": [
    {
     "name": "stderr",
     "output_type": "stream",
     "text": [
      "Using TensorFlow backend.\n"
     ]
    }
   ],
   "source": [
    "import os\n",
    "os.environ['CUDA_VISIBLE_DEVICES'] = ''\n",
    "\n",
    "import cv2\n",
    "import numpy as np\n",
    "import sys\n",
    "import pickle\n",
    "import time\n",
    "import random\n",
    "import matplotlib.pyplot as plt\n",
    "import matplotlib\n",
    "\n",
    "from keras_frcnn import config\n",
    "from keras import backend as K\n",
    "from keras.layers import Input\n",
    "from keras.models import Model\n",
    "from keras_frcnn import roi_helpers\n",
    "from keras_frcnn import vgg as nn\n",
    "from keras_frcnn import data_generators"
   ]
  },
  {
   "cell_type": "code",
   "execution_count": 2,
   "metadata": {},
   "outputs": [],
   "source": [
    "def format_img_size(img, C):\n",
    "    \"\"\" formats the image size based on config \"\"\"\n",
    "    img_min_side = float(C.im_size)\n",
    "    (height, width, _) = img.shape\n",
    "    \n",
    "    if width <= height:\n",
    "        ratio = img_min_side / width\n",
    "        new_height = int(height * ratio)\n",
    "        new_width = int(img_min_side)\n",
    "    else:\n",
    "        ratio = img_min_side / height\n",
    "        new_width = int(width * ratio)\n",
    "        new_height = int(img_min_side)\n",
    "    img = cv2.resize(img, (new_width, new_height), interpolation=cv2.INTER_CUBIC)\n",
    "    return img, ratio\n",
    "\n",
    "def format_img_channels(img, C):\n",
    "    \"\"\" formats the image channels based on config \"\"\"\n",
    "    img = img[:, :, ::-1] # BGR -> RGB\n",
    "    img = img.astype(dtype=np.float32)\n",
    "    img[:, :, 0] -= C.img_channel_mean[0]\n",
    "    img[:, :, 1] -= C.img_channel_mean[1]\n",
    "    img[:, :, 2] -= C.img_channel_mean[2]\n",
    "    img /= C.img_scaling_factor\n",
    "    \n",
    "#     img = np.transpose(img, (2, 0, 1)) # (channel ,height, width) ??? -> theano backend?\n",
    "    img = np.expand_dims(img, axis=0)\n",
    "    return img\n",
    "\n",
    "def format_img(img, C):\n",
    "    \"\"\" formats an image for model prediction based on config \"\"\"\n",
    "    img, ratio = format_img_size(img, C)\n",
    "    img = format_img_channels(img, C)\n",
    "    return img, ratio\n",
    "\n",
    "# Method to transform the coordinates of the bounding box to its original size\n",
    "def get_real_coordinates(ratio, x1, y1, x2, y2):\n",
    "    real_x1 = int(round(x1 // ratio))\n",
    "    real_y1 = int(round(y1 // ratio))\n",
    "    real_x2 = int(round(x2 // ratio))\n",
    "    real_y2 = int(round(y2 // ratio))\n",
    "    return (real_x1, real_y1, real_x2, real_y2)"
   ]
  },
  {
   "cell_type": "markdown",
   "metadata": {},
   "source": [
    "# Pascal dataset"
   ]
  },
  {
   "cell_type": "code",
   "execution_count": null,
   "metadata": {},
   "outputs": [],
   "source": [
    "with open('./config.pickle', 'rb') as f_in:\n",
    "    C = pickle.load(f_in)\n",
    "\n",
    "C.use_horizontal_flips = False\n",
    "\n",
    "class_mapping = C.class_mapping\n",
    "\n",
    "class_mapping = {v: k for k, v in class_mapping.items()}\n",
    "class_to_color = {class_mapping[v]: np.random.randint(0, 255, 3) for v in class_mapping}"
   ]
  },
  {
   "cell_type": "code",
   "execution_count": null,
   "metadata": {},
   "outputs": [],
   "source": [
    "num_features = 512\n",
    "input_shape_img = (None, None, 3)\n",
    "input_shape_features = (None, None, num_features)\n",
    "\n",
    "img_input = Input(shape=input_shape_img)\n",
    "roi_input = Input(shape=(C.num_rois, 4))\n",
    "feature_map_input = Input(shape=input_shape_features)\n",
    "\n",
    "# define the base network\n",
    "shared_layers = nn.nn_base(img_input, trainable=True)\n",
    "\n",
    "# define the RPN, build on the base layers\n",
    "num_anchors = len(C.anchor_box_scales) * len(C.anchor_box_ratios)\n",
    "rpn_layers = nn.rpn(shared_layers, num_anchors)\n",
    "classifier = nn.classifier(feature_map_input, roi_input, C.num_rois, nb_classes=len(class_mapping), trainable=True)\n",
    "\n",
    "model_rpn = Model(img_input, rpn_layers)\n",
    "model_classifier_only = Model([feature_map_input, roi_input], classifier)\n",
    "model_classifier = Model([feature_map_input, roi_input], classifier)\n",
    "print('Loading weights from {}'.format(C.model_path))\n",
    "model_rpn.load_weights(C.model_path, by_name=True)\n",
    "model_classifier.load_weights(C.model_path, by_name=True)\n",
    "model_rpn.compile(optimizer='sgd', loss='mae')\n",
    "model_classifier.compile(optimizer='sgd', loss='mae')"
   ]
  },
  {
   "cell_type": "code",
   "execution_count": null,
   "metadata": {},
   "outputs": [],
   "source": [
    "bbox_threshold = 0.8\n",
    "img_path = '/content/dohai90/datasets/pascal_data/VOCdevkit/VOC2007/JPEGImages'\n",
    "img_names = sorted(os.listdir(img_path))\n",
    "img_name = random.choice(img_names)\n",
    "fpath = os.path.join(img_path, img_name)"
   ]
  },
  {
   "cell_type": "code",
   "execution_count": null,
   "metadata": {},
   "outputs": [],
   "source": [
    "fpath"
   ]
  },
  {
   "cell_type": "code",
   "execution_count": null,
   "metadata": {},
   "outputs": [],
   "source": [
    "img = cv2.imread(fpath)\n",
    "X, ratio = format_img(img, C)\n",
    "\n",
    "# get the feature maps and output from the RPN\n",
    "[Y1, Y2, F] = model_rpn.predict(X)"
   ]
  },
  {
   "cell_type": "code",
   "execution_count": null,
   "metadata": {},
   "outputs": [],
   "source": [
    "R = roi_helpers.rpn_to_roi(Y1, Y2, C, K.image_dim_ordering(), overlap_thresh=0.7)"
   ]
  },
  {
   "cell_type": "code",
   "execution_count": null,
   "metadata": {},
   "outputs": [],
   "source": [
    "# convert from (x1, y1, x2, y2) to (x, y, w, h)\n",
    "R[:, 2] -= R[:, 0]\n",
    "R[:, 3] -= R[:, 1]\n",
    "# apply the spatial pyramid pooling to the proposed regions\n",
    "bboxes = {}\n",
    "probs = {}"
   ]
  },
  {
   "cell_type": "code",
   "execution_count": null,
   "metadata": {},
   "outputs": [],
   "source": [
    "R.shape"
   ]
  },
  {
   "cell_type": "code",
   "execution_count": null,
   "metadata": {},
   "outputs": [],
   "source": [
    "for jk in range(R.shape[0] // C.num_rois + 1):\n",
    "    ROIs = np.expand_dims(R[C.num_rois*jk:C.num_rois*(jk+1), :], axis=0)\n",
    "    if ROIs.shape[1] == 0:\n",
    "        break\n",
    "        \n",
    "    if jk == R.shape[0] // C.num_rois:\n",
    "        # pad R        \n",
    "        curr_shape = ROIs.shape\n",
    "        target_shape = (curr_shape[0], C.num_rois, curr_shape[2])\n",
    "        ROIs_padded = np.zeros(target_shape).astype(ROIs.dtype)\n",
    "        ROIs_padded[:, :curr_shape[1], :] = ROIs\n",
    "        ROIs_padded[0, curr_shape[1]:, :] = ROIs[0, 0, :]\n",
    "        ROIs = ROIs_padded\n",
    "        \n",
    "    [P_cls, P_regr] = model_classifier.predict([F, ROIs])\n",
    "    \n",
    "    for ii in range(P_cls.shape[1]):\n",
    "        if np.max(P_cls[0, ii, :]) < bbox_threshold or np.argmax(P_cls[0, ii, :]) == (P_cls.shape[2] - 1):\n",
    "            continue\n",
    "            \n",
    "        cls_name = class_mapping[np.argmax(P_cls[0, ii, :])]\n",
    "        \n",
    "        if cls_name not in bboxes:\n",
    "            bboxes[cls_name] = []\n",
    "            probs[cls_name] = []\n",
    "            \n",
    "        (x, y, w, h) = ROIs[0, ii, :]\n",
    "        cls_num = np.argmax(P_cls[0, ii, :])\n",
    "        try:\n",
    "            (tx, ty, tw, th) = P_regr[0, ii, 4 * cls_num: 4 * (cls_num + 1)]\n",
    "            tx /= C.classifier_regr_std[0]\n",
    "            ty /= C.classifier_regr_std[1]\n",
    "            tw /= C.classifier_regr_std[2]\n",
    "            th /= C.classifier_regr_std[3]\n",
    "            x, y, w, h = roi_helpers.apply_regr(x, y, w, h, tx, ty, tw, th)\n",
    "        except:\n",
    "            pass\n",
    "        \n",
    "        bboxes[cls_name].append([C.rpn_stride * x, C.rpn_stride * y, C.rpn_stride * (x + w), C.rpn_stride * (y + h)])\n",
    "        probs[cls_name].append(np.max(P_cls[0, ii, :]))\n",
    "\n",
    "all_dets = []\n",
    "for key in bboxes.keys():\n",
    "    bbox = np.array(bboxes[key])\n",
    "    \n",
    "    new_boxes, new_probs = roi_helpers.non_max_suppression_fast(bbox, np.array(probs[key]), overlap_thresh=0.5)\n",
    "    for jk in range(new_boxes.shape[0]):\n",
    "        (x1, y1, x2, y2) = new_boxes[jk, :]\n",
    "        (real_x1, real_y1, real_x2, real_y2) = get_real_coordinates(ratio, x1, y1, x2, y2)\n",
    "        cv2. rectangle(img, (real_x1, real_y1), (real_x2, real_y2), (int(class_to_color[key][0]), int(class_to_color[key][1]), int(class_to_color[key][2])), 2)\n",
    "        textLabel = '{}: {}'.format(key, int(100 * new_probs[jk]))\n",
    "        all_dets.append((key, 100 * new_probs[jk]))\n",
    "        \n",
    "        (retval,baseLine) = cv2.getTextSize(textLabel,cv2.FONT_HERSHEY_COMPLEX,1,1)\n",
    "        textOrg = (real_x1, real_y1-0)\n",
    "\n",
    "        cv2.rectangle(img, (textOrg[0] - 5, textOrg[1]+baseLine - 5), (textOrg[0]+retval[0] + 5, textOrg[1]-retval[1] - 5), (0, 0, 0), 2)\n",
    "        cv2.rectangle(img, (textOrg[0] - 5,textOrg[1]+baseLine - 5), (textOrg[0]+retval[0] + 5, textOrg[1]-retval[1] - 5), (255, 255, 255), -1)\n",
    "        cv2.putText(img, textLabel, textOrg, cv2.FONT_HERSHEY_DUPLEX, 1, (0, 0, 0), 1)"
   ]
  },
  {
   "cell_type": "code",
   "execution_count": null,
   "metadata": {},
   "outputs": [],
   "source": [
    "plt.figure(figsize=(10, 13))\n",
    "plt.imshow(img[:, :, ::-1])\n",
    "plt.show()"
   ]
  },
  {
   "cell_type": "code",
   "execution_count": null,
   "metadata": {},
   "outputs": [],
   "source": [
    "print(all_dets)"
   ]
  },
  {
   "cell_type": "markdown",
   "metadata": {},
   "source": [
    "# OCR"
   ]
  },
  {
   "cell_type": "code",
   "execution_count": 3,
   "metadata": {},
   "outputs": [],
   "source": [
    "with open('./config.pickle', 'rb') as f_in:\n",
    "    C = pickle.load(f_in)\n",
    "\n",
    "C.use_horizontal_flips = False\n",
    "C.model_path = './weights/model_ocr.h5'\n",
    "\n",
    "class_mapping = C.class_mapping\n",
    "\n",
    "class_mapping = {v: k for k, v in class_mapping.items()}\n",
    "class_to_color = {class_mapping[v]: np.random.randint(0, 255, 3) for v in class_mapping}"
   ]
  },
  {
   "cell_type": "code",
   "execution_count": 4,
   "metadata": {},
   "outputs": [],
   "source": [
    "num_features = 512\n",
    "input_shape_img = (None, None, 3)\n",
    "input_shape_features = (None, None, num_features)\n",
    "\n",
    "img_input = Input(shape=input_shape_img)\n",
    "roi_input = Input(shape=(C.num_rois, 4))\n",
    "feature_map_input = Input(shape=input_shape_features)"
   ]
  },
  {
   "cell_type": "code",
   "execution_count": 6,
   "metadata": {},
   "outputs": [
    {
     "name": "stdout",
     "output_type": "stream",
     "text": [
      "Loading weights from ./weights/model_ocr.h5\n"
     ]
    }
   ],
   "source": [
    "# define the base network\n",
    "shared_layers = nn.nn_base(img_input, trainable=True)\n",
    "\n",
    "# define the RPN, build on the base layers\n",
    "num_anchors = len(C.anchor_box_scales) * len(C.anchor_box_ratios)\n",
    "rpn_layers = nn.rpn(shared_layers, num_anchors)\n",
    "classifier = nn.classifier(feature_map_input, roi_input, C.num_rois, nb_classes=len(class_mapping), trainable=True)\n",
    "\n",
    "model_rpn = Model(img_input, rpn_layers)\n",
    "model_classifier_only = Model([feature_map_input, roi_input], classifier)\n",
    "model_classifier = Model([feature_map_input, roi_input], classifier)\n",
    "print('Loading weights from {}'.format(C.model_path))\n",
    "model_rpn.load_weights(C.model_path, by_name=True)\n",
    "model_classifier.load_weights(C.model_path, by_name=True)\n",
    "model_rpn.compile(optimizer='sgd', loss='mae')\n",
    "model_classifier.compile(optimizer='sgd', loss='mae')"
   ]
  },
  {
   "cell_type": "markdown",
   "metadata": {},
   "source": [
    "## Creating image"
   ]
  },
  {
   "cell_type": "code",
   "execution_count": 16,
   "metadata": {},
   "outputs": [],
   "source": [
    "words_dir = '/content/dohai90/workspace/OCR/korean_ocr/wordlists'\n",
    "monogram_file = os.path.join(words_dir, 'wordlist_mono_clean.txt')\n",
    "bigram_file = os.path.join(words_dir, 'wordlist_bi_clean.txt')\n",
    "string_list = data_generators.build_word_list(16000, monogram_file, bigram_file, max_string_len=16, mono_fraction=0.5)\n",
    "data_gen_train_ocr = data_generators.get_anchor_gt_ocr(string_list, 1000, 600, C, nn.get_img_output_length, K.image_dim_ordering(), mode='train', multi_fonts=True, multi_font_sizes=True)"
   ]
  },
  {
   "cell_type": "code",
   "execution_count": 18,
   "metadata": {},
   "outputs": [
    {
     "data": {
      "image/png": "[encoded data removed]",
      "text/plain": [
       "<Figure size 720x936 with 1 Axes>"
      ]
     },
     "metadata": {},
     "output_type": "display_data"
    }
   ],
   "source": [
    "bbox_threshold = 0.9\n",
    "X, Y, img_data = next(data_gen_train_ocr)\n",
    "x_img = X.squeeze()\n",
    "x_img[:, :, 0] += C.img_channel_mean[0]\n",
    "x_img[:, :, 1] += C.img_channel_mean[1]\n",
    "x_img[:, :, 2] += C.img_channel_mean[2]\n",
    "x_img *= C.img_scaling_factor\n",
    "x_img = x_img.astype(np.uint8)\n",
    "plt.figure(figsize=(10, 13)) \n",
    "plt.imshow(x_img)\n",
    "for bbox in img_data['bboxes']:\n",
    "    plt.gca().add_patch(matplotlib.patches.Rectangle((bbox['x1'], bbox['y1']), bbox['x2'] - bbox['x1'], bbox['y2'] - bbox['y1'], ec='r', fc='none'))\n",
    "plt.show()"
   ]
  },
  {
   "cell_type": "code",
   "execution_count": 9,
   "metadata": {},
   "outputs": [],
   "source": [
    "X, ratio = format_img(x_img[:, :, ::-1], C)\n",
    "\n",
    "# get the feature maps and output from the RPN\n",
    "[Y1, Y2, F] = model_rpn.predict(X)"
   ]
  },
  {
   "cell_type": "code",
   "execution_count": 10,
   "metadata": {},
   "outputs": [],
   "source": [
    "R = roi_helpers.rpn_to_roi(Y1, Y2, C, K.image_dim_ordering(), overlap_thresh=0.7)"
   ]
  },
  {
   "cell_type": "code",
   "execution_count": 11,
   "metadata": {},
   "outputs": [],
   "source": [
    "# convert from (x1, y1, x2, y2) to (x, y, w, h)\n",
    "R[:, 2] -= R[:, 0]\n",
    "R[:, 3] -= R[:, 1]\n",
    "# apply the spatial pyramid pooling to the proposed regions\n",
    "bboxes = {}\n",
    "probs = {}"
   ]
  },
  {
   "cell_type": "code",
   "execution_count": 12,
   "metadata": {},
   "outputs": [
    {
     "data": {
      "text/plain": [
       "(300, 4)"
      ]
     },
     "execution_count": 12,
     "metadata": {},
     "output_type": "execute_result"
    }
   ],
   "source": [
    "R.shape"
   ]
  },
  {
   "cell_type": "code",
   "execution_count": 15,
   "metadata": {},
   "outputs": [
    {
     "data": {
      "image/png": "[encoded data removed]",
      "text/plain": [
       "<Figure size 720x936 with 1 Axes>"
      ]
     },
     "metadata": {},
     "output_type": "display_data"
    }
   ],
   "source": [
    "for jk in range(R.shape[0] // C.num_rois + 1):\n",
    "    ROIs = np.expand_dims(R[C.num_rois*jk:C.num_rois*(jk+1), :], axis=0)\n",
    "    if ROIs.shape[1] == 0:\n",
    "        break\n",
    "        \n",
    "    if jk == R.shape[0] // C.num_rois:\n",
    "        # pad R        \n",
    "        curr_shape = ROIs.shape\n",
    "        target_shape = (curr_shape[0], C.num_rois, curr_shape[2])\n",
    "        ROIs_padded = np.zeros(target_shape).astype(ROIs.dtype)\n",
    "        ROIs_padded[:, :curr_shape[1], :] = ROIs\n",
    "        ROIs_padded[0, curr_shape[1]:, :] = ROIs[0, 0, :]\n",
    "        ROIs = ROIs_padded\n",
    "        \n",
    "    [P_cls, P_regr] = model_classifier.predict([F, ROIs])\n",
    "    \n",
    "    for ii in range(P_cls.shape[1]):\n",
    "        if np.max(P_cls[0, ii, :]) < bbox_threshold or np.argmax(P_cls[0, ii, :]) == (P_cls.shape[2] - 1):\n",
    "            continue\n",
    "            \n",
    "        cls_name = class_mapping[np.argmax(P_cls[0, ii, :])]\n",
    "        \n",
    "        if cls_name not in bboxes:\n",
    "            bboxes[cls_name] = []\n",
    "            probs[cls_name] = []\n",
    "            \n",
    "        (x, y, w, h) = ROIs[0, ii, :]\n",
    "        cls_num = np.argmax(P_cls[0, ii, :])\n",
    "        try:\n",
    "            (tx, ty, tw, th) = P_regr[0, ii, 4 * cls_num: 4 * (cls_num + 1)]\n",
    "            tx /= C.classifier_regr_std[0]\n",
    "            ty /= C.classifier_regr_std[1]\n",
    "            tw /= C.classifier_regr_std[2]\n",
    "            th /= C.classifier_regr_std[3]\n",
    "            x, y, w, h = roi_helpers.apply_regr(x, y, w, h, tx, ty, tw, th)\n",
    "        except:\n",
    "            pass\n",
    "        \n",
    "        bboxes[cls_name].append([C.rpn_stride * x, C.rpn_stride * y, C.rpn_stride * (x + w), C.rpn_stride * (y + h)])\n",
    "        probs[cls_name].append(np.max(P_cls[0, ii, :]))\n",
    "\n",
    "all_dets = []\n",
    "x_img_copy = np.copy(x_img)\n",
    "for key in bboxes.keys():\n",
    "    bbox = np.array(bboxes[key])\n",
    "    \n",
    "    new_boxes, new_probs = roi_helpers.non_max_suppression_fast(bbox, np.array(probs[key]), overlap_thresh=0.1)\n",
    "    for jk in range(new_boxes.shape[0]):\n",
    "        (x1, y1, x2, y2) = new_boxes[jk, :]\n",
    "        (real_x1, real_y1, real_x2, real_y2) = get_real_coordinates(ratio, x1, y1, x2, y2)\n",
    "        cv2. rectangle(x_img_copy, (real_x1, real_y1), (real_x2, real_y2), (int(class_to_color[key][0]), int(class_to_color[key][1]), int(class_to_color[key][2])), 2)\n",
    "        textLabel = '{}: {}'.format(key, int(100 * new_probs[jk]))\n",
    "        all_dets.append((key, 100 * new_probs[jk]))\n",
    "        \n",
    "        (retval,baseLine) = cv2.getTextSize(textLabel,cv2.FONT_HERSHEY_COMPLEX,1,1)\n",
    "        textOrg = (real_x1, real_y1-0)\n",
    "\n",
    "        cv2.rectangle(x_img_copy, (textOrg[0] - 5, textOrg[1]+baseLine - 5), (textOrg[0]+retval[0] + 5, textOrg[1]-retval[1] - 5), (0, 0, 0), 2)\n",
    "        cv2.rectangle(x_img_copy, (textOrg[0] - 5,textOrg[1]+baseLine - 5), (textOrg[0]+retval[0] + 5, textOrg[1]-retval[1] - 5), (255, 255, 255), -1)\n",
    "        cv2.putText(x_img_copy, textLabel, textOrg, cv2.FONT_HERSHEY_DUPLEX, 1, (0, 0, 0), 1)\n",
    "\n",
    "plt.figure(figsize=(10, 13))\n",
    "plt.imshow(x_img_copy)\n",
    "plt.show()"
   ]
  },
  {
   "cell_type": "code",
   "execution_count": null,
   "metadata": {},
   "outputs": [],
   "source": []
  },
  {
   "cell_type": "code",
   "execution_count": null,
   "metadata": {},
   "outputs": [],
   "source": []
  }
 ],
 "metadata": {
  "kernelspec": {
   "display_name": "Python 3",
   "language": "python",
   "name": "python3"
  },
  "language_info": {
   "codemirror_mode": {
    "name": "ipython",
    "version": 3
   },
   "file_extension": ".py",
   "mimetype": "text/x-python",
   "name": "python",
   "nbconvert_exporter": "python",
   "pygments_lexer": "ipython3",
   "version": "3.5.2"
  }
 },
 "nbformat": 4,
 "nbformat_minor": 2
}
